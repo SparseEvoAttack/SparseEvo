{
 "cells": [
  {
   "cell_type": "markdown",
   "id": "78193fe6",
   "metadata": {},
   "source": [
    "### 0. Import libraries & functions"
   ]
  },
  {
   "cell_type": "code",
   "execution_count": 1,
   "id": "5ef22921",
   "metadata": {},
   "outputs": [],
   "source": [
    "import os\n",
    "import sys\n",
    "os.environ[\"CUDA_DEVICE_ORDER\"]=\"PCI_BUS_ID\"\n",
    "os.environ[\"CUDA_VISIBLE_DEVICES\"]=\"0\";\n",
    "#from pudb import set_trace\n",
    "import numpy as np\n",
    "import torch\n",
    "from torchvision import models\n",
    "\n",
    "import torch.backends.cudnn as cudnn\n",
    "import random\n",
    "from tqdm.auto import tqdm\n",
    "import matplotlib.pyplot as plt\n",
    "import seaborn as sns\n",
    "\n",
    "from xmodels import *\n",
    "from utils_se import *\n",
    "\n",
    "from pointwise_attack import PointWiseAtt\n",
    "from spaevo_attack import SpaEvoAtt\n",
    "import pgd_attacks_pt2"
   ]
  },
  {
   "cell_type": "code",
   "execution_count": 2,
   "id": "3a988c7c",
   "metadata": {},
   "outputs": [],
   "source": [
    "def imshow(img):\n",
    "    \n",
    "    npimg = img[0].cpu().numpy()\n",
    "    npimg = np.transpose(npimg,(1, 2, 0))\n",
    "    npimg = np.clip(npimg, 0, 1)\n",
    "    plt.imshow(npimg)\n",
    "    plt.show()"
   ]
  },
  {
   "cell_type": "code",
   "execution_count": 3,
   "id": "06f31f62",
   "metadata": {},
   "outputs": [],
   "source": [
    "def perturbation_heat_map(xo,xa):\n",
    "    \n",
    "    fig_dims = (5, 5)\n",
    "    fig, ax = plt.subplots(figsize=fig_dims)\n",
    "    x=torch.abs(xo-xa).sum(dim=1).cpu()[0]\n",
    "    sns.heatmap(x,ax=ax,xticklabels=False, yticklabels=False,cbar = False)\n",
    "    plt.show()"
   ]
  },
  {
   "cell_type": "markdown",
   "id": "e1b25425",
   "metadata": {},
   "source": [
    "### 1. Load data, pretrained model, evaluation set"
   ]
  },
  {
   "cell_type": "code",
   "execution_count": 4,
   "id": "f57bef7f",
   "metadata": {},
   "outputs": [
    {
     "name": "stdout",
     "output_type": "stream",
     "text": [
      "Files already downloaded and verified\n"
     ]
    }
   ],
   "source": [
    "# a. Load dataset\n",
    "batch_size = 1\n",
    "dataset = 'cifar10' # or 'imagenet'\n",
    "datapath = '../datasets/cifar10'#'../datasets/ImageNet-val'\n",
    "testloader, testset = load_data(dataset,data_path=datapath,batch_size=batch_size)"
   ]
  },
  {
   "cell_type": "code",
   "execution_count": 5,
   "id": "3dcdced9",
   "metadata": {},
   "outputs": [],
   "source": [
    "# b. Load pre-trained model\n",
    "\n",
    "# 'resnet50' if pre-trained model from Pytorch. 'resnet18' if using pre-trained cifar10 model\n",
    "arch = 'resnet18' \n",
    "\n",
    "# None means using pre-traineded model from Pytorch or default path. Otherwise, please change model_path = '...'\n",
    "model_path = None \n",
    "\n",
    "# True means pre-trained model does \"not\" normalized data while training, \n",
    "# so no need to unnorm during intergerence (used for CIFAR10 model)\n",
    "\n",
    "if dataset == 'cifar10':\n",
    "    num_classes = 10\n",
    "    norm = False # True means pre-trained model does \"not\" normalized data while training.\n",
    "    \n",
    "elif dataset == 'imagenet':\n",
    "    num_classes = 1000\n",
    "    norm = False # True means pre-trained model does \"not\" normalized data while training.\n",
    "\n",
    "net = load_model(arch,model_path)\n",
    "model = PretrainedModel(net,dataset,arch,norm)"
   ]
  },
  {
   "cell_type": "code",
   "execution_count": 6,
   "id": "88e746e0",
   "metadata": {},
   "outputs": [],
   "source": [
    "def test(model):\n",
    "    print('\\n[ Test Start ]')\n",
    "    device = torch.device('cuda:0' if torch.cuda.is_available() else 'cpu')\n",
    "    benign_correct = 0\n",
    "    total = 0\n",
    "    with torch.no_grad():\n",
    "        for batch_idx, (inputs, targets) in enumerate(testloader):\n",
    "            inputs, targets = inputs.to(device), targets.to(device)\n",
    "            total += targets.size(0)\n",
    "\n",
    "            outputs = model.predict_label(inputs)\n",
    "            if outputs==targets:\n",
    "                benign_correct += 1\n",
    "\n",
    "            if batch_idx % 2000 == 0:\n",
    "                print('Current batch:', str(batch_idx),\n",
    "                      'Current benign test accuracy:', str(benign_correct/ total))\n",
    "\n",
    "    print('\\nTotal benign test accuarcy:', 100. * benign_correct / total)"
   ]
  },
  {
   "cell_type": "code",
   "execution_count": 14,
   "id": "061ba16c",
   "metadata": {
    "scrolled": true
   },
   "outputs": [
    {
     "name": "stdout",
     "output_type": "stream",
     "text": [
      "\n",
      "[ Test Start ]\n",
      "Current batch: 0 Current benign test accuracy: 1.0\n",
      "Current batch: 2000 Current benign test accuracy: 0.952023988005997\n",
      "Current batch: 4000 Current benign test accuracy: 0.950012496875781\n",
      "Current batch: 6000 Current benign test accuracy: 0.9528411931344776\n",
      "Current batch: 8000 Current benign test accuracy: 0.952880889888764\n",
      "\n",
      "Total benign test accuarcy: 95.37\n"
     ]
    }
   ],
   "source": [
    "test(model)"
   ]
  },
  {
   "cell_type": "code",
   "execution_count": 6,
   "id": "0b63ed2e",
   "metadata": {},
   "outputs": [],
   "source": [
    "# c. Load evaluation set\n",
    "targeted = True # True means targeted attack. False means untargeted attack.\n",
    "seed = 999\n",
    "\n",
    "ID_set = get_evalset(model,dataset,arch,testset,seed,targeted)"
   ]
  },
  {
   "cell_type": "markdown",
   "id": "f84a2f5b",
   "metadata": {},
   "source": [
    "### 2. PointWise Evaluation"
   ]
  },
  {
   "cell_type": "code",
   "execution_count": 7,
   "id": "3f3637c4",
   "metadata": {
    "scrolled": true
   },
   "outputs": [
    {
     "name": "stdout",
     "output_type": "stream",
     "text": [
      "nqry = 400; Reset value to original -> new distance: 11.239893913269043; L0 = 947; pred label: tensor([5], device='cuda:0')\n",
      "nqry = 600; Reset value to original -> new distance: 9.634395599365234; L0 = 782; pred label: tensor([5], device='cuda:0')\n",
      "refine stage!\n",
      "nquery = 1000; Set value at 88 from [0.8352941  0.5568628  0.91764706 0.8862745 ] to [0.8352941 0.5568628 0.8827512 0.8862745] (original has [0.8352941 0.5568628 0.654902  0.8862745]) -> new distance: 7.551494598388672; \n",
      "pred label:tensor([5], device='cuda:0'); L0:465\n",
      "nquery = 1200; Set value at 167 from [0.76862746 0.73333335 0.50980395 0.7882353 ] to [0.76862746 0.73333335 0.50980395 0.786466  ] (original has [0.76862746 0.73333335 0.50980395 0.7647059 ]) -> new distance: 7.122283935546875; \n",
      "pred label:tensor([5], device='cuda:0'); L0:435\n",
      "nquery = 1600; Set value at 258 from [0.827451   0.8        0.39215687 0.84705883] to [0.827451   0.8        0.39178157 0.84705883] (original has [0.827451   0.8        0.2        0.84705883]) -> new distance: 6.866913795471191; \n",
      "pred label:tensor([5], device='cuda:0'); L0:405\n"
     ]
    }
   ],
   "source": [
    "i = 31#114\n",
    "o = ID_set[i,1] #oID\n",
    "oimg, olabel = testset[o]\n",
    "oimg = torch.unsqueeze(oimg, 0).cuda()\n",
    "query_limit = 2000\n",
    "nquery = 0\n",
    "n_pix = 4\n",
    "seed = 0\n",
    "\n",
    "if targeted:\n",
    "    t = ID_set[i,3] #tID, 3 is index acrross dataset - 4 is sample index in a class (not accross dataset)\n",
    "    timg, tlabel = testset[t]\n",
    "    timg = torch.unsqueeze(timg, 0).cuda()\n",
    "else: \n",
    "    init_mode = 'salt_pepper_att' \n",
    "    timg, nqry,_ = gen_starting_point(model,oimg,olabel,seed,dataset,init_mode)\n",
    "    tlabel = None\n",
    "    nquery += nqry\n",
    "\n",
    "attack = PointWiseAtt(model,flag=targeted)\n",
    "\n",
    "#adv, nqry, Dt = attack.pw_perturb(oimg.cpu().numpy(),timg.cpu().numpy(),olabel,tlabel,max_query=query_limit)\n",
    "adv, nqry, Dt = attack.pw_perturb_multiple(oimg.cpu().numpy(),timg.cpu().numpy(),olabel,tlabel,n_pix,max_query=query_limit)\n",
    "    \n",
    "adv = torch.from_numpy(adv.reshape(oimg.shape)).cuda()"
   ]
  },
  {
   "cell_type": "code",
   "execution_count": 8,
   "id": "070cf7bc",
   "metadata": {
    "scrolled": true
   },
   "outputs": [
    {
     "name": "stdout",
     "output_type": "stream",
     "text": [
      "Source image:\n"
     ]
    },
    {
     "data": {
      "image/png": "[encoded data removed]",
      "text/plain": [
       "<Figure size 432x288 with 1 Axes>"
      ]
     },
     "metadata": {
      "needs_background": "light"
     },
     "output_type": "display_data"
    },
    {
     "name": "stdout",
     "output_type": "stream",
     "text": [
      "Starting image:\n"
     ]
    },
    {
     "data": {
      "image/png": "[encoded data removed]",
      "text/plain": [
       "<Figure size 432x288 with 1 Axes>"
      ]
     },
     "metadata": {
      "needs_background": "light"
     },
     "output_type": "display_data"
    },
    {
     "name": "stdout",
     "output_type": "stream",
     "text": [
      "Adversarial Example:\n"
     ]
    },
    {
     "data": {
      "image/png": "[encoded data removed]",
      "text/plain": [
       "<Figure size 432x288 with 1 Axes>"
      ]
     },
     "metadata": {
      "needs_background": "light"
     },
     "output_type": "display_data"
    },
    {
     "name": "stdout",
     "output_type": "stream",
     "text": [
      "Perturbation Heat Map:\n"
     ]
    },
    {
     "data": {
      "image/png": "[encoded data removed]",
      "text/plain": [
       "<Figure size 360x360 with 1 Axes>"
      ]
     },
     "metadata": {},
     "output_type": "display_data"
    }
   ],
   "source": [
    "print('Source image:')\n",
    "imshow(oimg)\n",
    "\n",
    "print('Starting image:')\n",
    "timg, _ = testset[t]\n",
    "timg = torch.unsqueeze(timg, 0).cuda()\n",
    "imshow(timg)\n",
    "\n",
    "print('Adversarial Example:')\n",
    "imshow(adv)\n",
    "\n",
    "print('Perturbation Heat Map:')\n",
    "perturbation_heat_map(oimg,adv)"
   ]
  },
  {
   "cell_type": "code",
   "execution_count": 9,
   "id": "5e26f832",
   "metadata": {},
   "outputs": [],
   "source": [
    "DPw = Dt"
   ]
  },
  {
   "cell_type": "code",
   "execution_count": 10,
   "id": "6ff4b3ce",
   "metadata": {},
   "outputs": [
    {
     "name": "stdout",
     "output_type": "stream",
     "text": [
      "- sample ID: 5013\n",
      "- ground-truth: 0 \n",
      "- target label: 5 \n",
      "- AdvEx label: 5\n",
      "- L0 dist:355\n"
     ]
    }
   ],
   "source": [
    "# check prediction of adversarial example\n",
    "alabel = model.predict_label(adv).item()\n",
    "dist = l0b(oimg,adv)#DPw[-1]\n",
    "print(f'- sample ID: {o}\\n- ground-truth: {olabel} \\n- target label: {tlabel} \\n- AdvEx label: {alabel}\\n- L0 dist:{dist}')"
   ]
  },
  {
   "cell_type": "markdown",
   "id": "b20c0fde",
   "metadata": {},
   "source": [
    "### 3. PGD_L0 Evaluation"
   ]
  },
  {
   "cell_type": "code",
   "execution_count": 11,
   "id": "9ae06155",
   "metadata": {},
   "outputs": [],
   "source": [
    "if dataset == 'imagenet':\n",
    "    mu = (0.0, 0.0, 0.0)\n",
    "    std = (1.0, 1.0, 1.0)\n",
    "\n",
    "    if targeted:\n",
    "        num_steps = 5000\n",
    "        step_size = 224*224*3*(0.025)\n",
    "        LB_L0 = 0\n",
    "        UB_L0 = 4000\n",
    "    else:\n",
    "        num_steps = 2000\n",
    "        step_size = 224*224*3*(0.05)\n",
    "        LB_L0 = 0\n",
    "        UB_L0 = 800\n",
    "\n",
    "elif dataset == 'cifar10':\n",
    "    mu = (0.0, 0.0, 0.0)\n",
    "    std = (1.0, 1.0, 1.0)\n",
    "\n",
    "    if targeted:\n",
    "        num_steps = 250\n",
    "        step_size = 120000.0/255.0\n",
    "        LB_L0 = 0\n",
    "        UB_L0 = 200\n",
    "    else:\n",
    "        num_steps = 100\n",
    "        step_size = 120000.0/255.0\n",
    "        LB_L0 = 0\n",
    "        UB_L0 = 100\n",
    "\n",
    "pgd_args = {'type_attack': 'L0',\n",
    "            'n_restarts': 1,\n",
    "            'num_steps': num_steps,\n",
    "            'step_size': step_size,\n",
    "            'epsilon': -1,\n",
    "            'sparsity': 100,\n",
    "            'mu': mu,\n",
    "            'std':std}\n",
    "\n",
    "i = 31\n",
    "o = ID_set[i,1] #oID\n",
    "img, label = testset[o]\n",
    "img = torch.unsqueeze(img, 0).cuda()\n",
    "oimg = img.permute(0,2,3,1) # equal to np.transpose(img,(0,2, 3, 1))\n",
    "olabel = np.expand_dims(label,axis = 0)"
   ]
  },
  {
   "cell_type": "code",
   "execution_count": 12,
   "id": "0d041874",
   "metadata": {},
   "outputs": [
    {
     "name": "stdout",
     "output_type": "stream",
     "text": [
      "[0] 5 100 100\n",
      "[0] 5 50 50\n",
      "[0] 5 25 25\n",
      "[0] 5 12 12\n",
      "[0] 5 6 6\n",
      "[0] 5 3 3\n"
     ]
    }
   ],
   "source": [
    "seed = 0\n",
    "np.random.seed(seed)\n",
    "torch.manual_seed(seed)\n",
    "\n",
    "ub = UB_L0\n",
    "lb = LB_L0  \n",
    "\n",
    "while (ub - lb) > 5:\n",
    "    k = int((ub + lb)//2)\n",
    "       \n",
    "    # 2. Run attack\n",
    "    # not \"net\" but \"model\" instead because the net is drafted in PreTrainedModel \n",
    "    # and mu,std are feeded to pgd.attack with 0 & 1 since input is transformered PreTrainModel\n",
    "    pgd_args['sparsity'] = k\n",
    "    attack = pgd_attacks_pt2.PGDattack(model, pgd_args) \n",
    "\n",
    "    if targeted:\n",
    "        label = np.expand_dims(ID_set[i,2].cpu().numpy(),axis=0) #tcla\n",
    "        tlabel = label.item()\n",
    "        adv, pgd_adv_acc, pixel_changed = attack.perturb_norm_target(oimg.cpu().numpy(), label)\n",
    "    else: #untaget\n",
    "        label = olabel\n",
    "        adv, pgd_adv_acc, pixel_changed = attack.perturb_norm(oimg.cpu().numpy(), label)\n",
    "                \n",
    "    adv = torch.from_numpy(adv).cuda()\n",
    "    adv = adv.permute(0,3,1,2)\n",
    "    alabel = model.predict_label(adv)\n",
    "    if alabel.cpu().numpy()!=olabel.item():\n",
    "        ub = k\n",
    "        L0 = pixel_changed.item()\n",
    "        alabel_fin = alabel.item()\n",
    "        adv_fin = adv.clone()\n",
    "        print(olabel,alabel_fin,L0,k)\n",
    "    else:\n",
    "        lb = k"
   ]
  },
  {
   "cell_type": "code",
   "execution_count": 13,
   "id": "d8c37d04",
   "metadata": {
    "scrolled": true
   },
   "outputs": [
    {
     "name": "stdout",
     "output_type": "stream",
     "text": [
      "Source image:\n"
     ]
    },
    {
     "data": {
      "image/png": "[encoded data removed]",
      "text/plain": [
       "<Figure size 432x288 with 1 Axes>"
      ]
     },
     "metadata": {
      "needs_background": "light"
     },
     "output_type": "display_data"
    },
    {
     "name": "stdout",
     "output_type": "stream",
     "text": [
      "Adversarial Example:\n"
     ]
    },
    {
     "data": {
      "image/png": "[encoded data removed]",
      "text/plain": [
       "<Figure size 432x288 with 1 Axes>"
      ]
     },
     "metadata": {
      "needs_background": "light"
     },
     "output_type": "display_data"
    },
    {
     "name": "stdout",
     "output_type": "stream",
     "text": [
      "Perturbation Heat Map:\n"
     ]
    },
    {
     "data": {
      "image/png": "[encoded data removed]",
      "text/plain": [
       "<Figure size 360x360 with 1 Axes>"
      ]
     },
     "metadata": {},
     "output_type": "display_data"
    }
   ],
   "source": [
    "print('Source image:')\n",
    "imshow(img)\n",
    "\n",
    "print('Adversarial Example:')\n",
    "imshow(adv_fin)\n",
    "\n",
    "print('Perturbation Heat Map:')\n",
    "perturbation_heat_map(img,adv_fin)"
   ]
  },
  {
   "cell_type": "markdown",
   "id": "c6e250dc",
   "metadata": {},
   "source": [
    "### 4. RamBoAttack Evaluation"
   ]
  },
  {
   "cell_type": "code",
   "execution_count": 14,
   "id": "df3d426f",
   "metadata": {},
   "outputs": [],
   "source": [
    "if dataset == 'cifar10':\n",
    "    n_pix = 4 # 4, 16, 64, 256 only required for uni_rand: 4/(32*32) = 196/(224*224) = 0.004\n",
    "    if targeted:\n",
    "        mu = 0.01\n",
    "    else:\n",
    "        mu = 0.04\n",
    "elif dataset == 'imagenet':\n",
    "    n_pix = 196 # 49, 196, 784, 3136 only required for uni_rand: 4/(32*32) = 196/(224*224) = 0.004\n",
    "    if targeted:\n",
    "        mu = 0.001\n",
    "    else:\n",
    "        mu = 0.004\n",
    "\n",
    "query_limit = 2000\n",
    "nquery = 0\n",
    "pop_size = 10\n",
    "cr = 0.5\n",
    "seed = 0\n",
    "n = n_pix\n",
    "\n",
    "attack = SpaEvoAtt(model,n,pop_size,cr,mu,seed,flag=targeted)"
   ]
  },
  {
   "cell_type": "code",
   "execution_count": 15,
   "id": "1316559b",
   "metadata": {},
   "outputs": [],
   "source": [
    "# change i to select sample from selected (generated) evaluation set\n",
    "i = 31# 115,51,113,999,12,123,114,123\n",
    "o = ID_set[i,1] #oID\n",
    "oimg, olabel = testset[o]\n",
    "oimg = torch.unsqueeze(oimg, 0).cuda()\n",
    "\n",
    "if targeted:\n",
    "    t = ID_set[i,3] #tID, 3 is index acrross dataset - 4 is sample index in a class (not accross dataset)\n",
    "    timg, tlabel = testset[t]\n",
    "    timg = torch.unsqueeze(timg, 0).cuda()\n",
    "else:\n",
    "    init_mode = 'salt_pepper_att' #'gauss_rand' #'salt_pepper'\n",
    "    timg, nqry,_ = gen_starting_point(model,oimg,olabel,seed,dataset,init_mode)\n",
    "    tlabel = None\n",
    "    nquery += nqry\n",
    "    \n",
    "adv, nqry,Dt = attack.evo_perturb(oimg,timg,olabel,tlabel,max_query=query_limit)\n",
    "\n",
    "DSpaEvo = Dt"
   ]
  },
  {
   "cell_type": "code",
   "execution_count": 16,
   "id": "7dd943ad",
   "metadata": {
    "scrolled": true
   },
   "outputs": [
    {
     "name": "stdout",
     "output_type": "stream",
     "text": [
      "Source image:\n"
     ]
    },
    {
     "data": {
      "image/png": "[encoded data removed]",
      "text/plain": [
       "<Figure size 432x288 with 1 Axes>"
      ]
     },
     "metadata": {
      "needs_background": "light"
     },
     "output_type": "display_data"
    },
    {
     "name": "stdout",
     "output_type": "stream",
     "text": [
      "Starting image:\n"
     ]
    },
    {
     "data": {
      "image/png": "[encoded data removed]",
      "text/plain": [
       "<Figure size 432x288 with 1 Axes>"
      ]
     },
     "metadata": {
      "needs_background": "light"
     },
     "output_type": "display_data"
    },
    {
     "name": "stdout",
     "output_type": "stream",
     "text": [
      "Adversarial Example:\n"
     ]
    },
    {
     "data": {
      "image/png": "[encoded data removed]",
      "text/plain": [
       "<Figure size 432x288 with 1 Axes>"
      ]
     },
     "metadata": {
      "needs_background": "light"
     },
     "output_type": "display_data"
    },
    {
     "name": "stdout",
     "output_type": "stream",
     "text": [
      "Perturbation Heat Map:\n"
     ]
    },
    {
     "data": {
      "image/png": "[encoded data removed]",
      "text/plain": [
       "<Figure size 360x360 with 1 Axes>"
      ]
     },
     "metadata": {},
     "output_type": "display_data"
    }
   ],
   "source": [
    "print('Source image:')\n",
    "imshow(oimg)\n",
    "\n",
    "print('Starting image:')\n",
    "timg, _ = testset[t]\n",
    "timg = torch.unsqueeze(timg, 0).cuda()\n",
    "imshow(timg)\n",
    "\n",
    "print('Adversarial Example:')\n",
    "imshow(adv)\n",
    "\n",
    "print('Perturbation Heat Map:')\n",
    "perturbation_heat_map(oimg,adv)"
   ]
  },
  {
   "cell_type": "code",
   "execution_count": 17,
   "id": "802fd04e",
   "metadata": {},
   "outputs": [
    {
     "name": "stdout",
     "output_type": "stream",
     "text": [
      "- sample ID: 5013\n",
      "- ground-truth: 0 \n",
      "- target label: 5 \n",
      "- AdvEx label: 5\n",
      "- L0 dist:9\n"
     ]
    }
   ],
   "source": [
    "# check prediction of adversarial example\n",
    "alabel = model.predict_label(adv).item()\n",
    "dist = l0b(oimg,adv)#DSpaEvo[-1]\n",
    "print(f'- sample ID: {o}\\n- ground-truth: {olabel} \\n- target label: {tlabel} \\n- AdvEx label: {alabel}\\n- L0 dist:{dist}')"
   ]
  },
  {
   "cell_type": "markdown",
   "id": "059ce735",
   "metadata": {},
   "source": [
    "### 6. Plot Distortion vs Queries"
   ]
  },
  {
   "cell_type": "code",
   "execution_count": 18,
   "id": "6ccfcc77",
   "metadata": {
    "scrolled": false
   },
   "outputs": [
    {
     "data": {
      "image/png": "[encoded data removed]",
      "text/plain": [
       "<Figure size 576x360 with 1 Axes>"
      ]
     },
     "metadata": {
      "needs_background": "light"
     },
     "output_type": "display_data"
    }
   ],
   "source": [
    "img_size = 32*32\n",
    "nq = query_limit\n",
    "q = np.arange(nq)\n",
    "df = pd.DataFrame({'qry':q,'dPW':DPw[:nq]/img_size,\n",
    "                   'dSpaE':DSpaEvo[:nq].cpu().numpy()/img_size})\n",
    "\n",
    "fig_dims = (8, 5)\n",
    "fig, ax = plt.subplots(figsize=fig_dims)\n",
    "f = sns.lineplot(x = 'qry', y = 'dPW',ax=ax,linewidth = 3, color = 'red',label = 'PW',data=df)\n",
    "f = sns.lineplot(x = 'qry', y = 'dSpaE',ax=ax,linewidth = 3, color = 'blue',label = 'SpaEvo',data=df)\n",
    "\n",
    "f.axes.set_title(\"Distortion vs Queries\",fontsize=20)\n",
    "f.set_xlabel(\"Queries\",fontsize=18)\n",
    "f.set_ylabel(\"Sparsity\",fontsize=18)\n",
    "f.tick_params(labelsize=15)\n",
    "#plt.legend(labels=['RamBoAttack (HSJA)'])\n",
    "plt.legend(title='Attack', fontsize='14', title_fontsize='18',bbox_to_anchor= (1.5,1))\n",
    "plt.show()"
   ]
  }
 ],
 "metadata": {
  "kernelspec": {
   "display_name": "Python 3",
   "language": "python",
   "name": "python3"
  },
  "language_info": {
   "codemirror_mode": {
    "name": "ipython",
    "version": 3
   },
   "file_extension": ".py",
   "mimetype": "text/x-python",
   "name": "python",
   "nbconvert_exporter": "python",
   "pygments_lexer": "ipython3",
   "version": "3.8.12"
  }
 },
 "nbformat": 4,
 "nbformat_minor": 5
}
